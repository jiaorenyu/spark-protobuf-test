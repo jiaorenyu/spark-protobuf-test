{
 "cells": [
  {
   "cell_type": "code",
   "execution_count": 18,
   "metadata": {},
   "outputs": [
    {
     "data": {
      "text/plain": [
       "\u001b[32mimport \u001b[39m\u001b[36m$cp.$                                           \n",
       "\n",
       "\u001b[39m\n",
       "\u001b[32mimport \u001b[39m\u001b[36mcom.tubitv.rpc.analytics._\u001b[39m"
      ]
     },
     "execution_count": 18,
     "metadata": {},
     "output_type": "execute_result"
    }
   ],
   "source": [
    "// move assembly jar from .target to root first\n",
    "import $cp.`zy-test-protobuf-assembly-1.0-SNAPSHOT.jar`\n",
    "\n",
    "import com.tubitv.rpc.analytics._"
   ]
  },
  {
   "cell_type": "code",
   "execution_count": 10,
   "metadata": {},
   "outputs": [
    {
     "data": {
      "text/plain": [
       "\u001b[36mbuilder\u001b[39m: \u001b[32mTestEvent\u001b[39m.\u001b[32mBuilder\u001b[39m = str1 {\n",
       "  value: \"test\"\n",
       "  unionValue {\n",
       "    value: 88\n",
       "  }\n",
       "}\n",
       "str2 {\n",
       "  value: \"test\"\n",
       "  unionValue {\n",
       "    value: 88\n",
       "  }\n",
       "}\n",
       "str3 {\n",
       "  value: \"test\"\n",
       "  unionValue {\n",
       "    value: 88\n",
       "  }\n",
       "}\n",
       "str4 {\n",
       "  value: \"test\"\n",
       "  unionValue {\n",
       "    value: 88\n",
       "  }\n",
       "}\n",
       "str5 {\n",
       "  value: \"test\"\n",
       "  unionValue {\n",
       "    value: 88\n",
       "  }\n",
       "}\n",
       "str6 {\n",
       "  value: \"test\"\n",
       "  unionValue {\n",
       "    value: 88\n",
       "  }\n",
       "}\n",
       "str7 {\n",
       "  value: \"test\"\n",
       "  unionValue {\n",
       "...\n",
       "\u001b[36mmthd\u001b[39m: \u001b[32mArray\u001b[39m[\u001b[32mjava\u001b[39m.\u001b[32mlang\u001b[39m.\u001b[32mreflect\u001b[39m.\u001b[32mMethod\u001b[39m] = \u001b[33mArray\u001b[39m(\n",
       "  public com.tubitv.rpc.analytics.TestEvent$Builder com.tubitv.rpc.analytics.TestEvent$Builder.setStr2(com.tubitv.rpc.analytics.TestField),\n",
       "  public com.tubitv.rpc.analytics.TestEvent$Builder com.tubitv.rpc.analytics.TestEvent$Builder.setStr3(com.tubitv.rpc.analytics.TestField),\n",
       "  public com.tubitv.rpc.analytics.TestEvent$Builder com.tubitv.rpc.analytics.TestEvent$Builder.setStr4(com.tubitv.rpc.analytics.TestField),\n",
       "  public com.tubitv.rpc.analytics.TestEvent$Builder com.tubitv.rpc.analytics.TestEvent$Builder.setStr5(com.tubitv.rpc.analytics.TestField),\n",
       "  public com.tubitv.rpc.analytics.TestEvent$Builder com.tubitv.rpc.analytics.TestEvent$Builder.setStr6(com.tubitv.rpc.analytics.TestField),\n",
       "  public com.tubitv.rpc.analytics.TestEvent$Builder com.tubitv.rpc.analytics.TestEvent$Builder.setStr7(com.tubitv.rpc.analytics.TestField),\n",
       "  public com.tubitv.rpc.analytics.TestEvent$Builder com.tubitv.rpc.analytics.TestEvent$Builder.setStr8(com.tubitv.rpc.analytics.TestField),\n",
       "  public com.tubitv.rpc.analytics.TestEvent$Builder com.tubitv.rpc.analytics.TestEvent$Builder.setStr9(com.tubitv.rpc.analytics.TestField),\n",
       "  public com.tubitv.rpc.analytics.TestEvent$Builder com.tubitv.rpc.analytics.TestEvent$Builder.setStr10(com.tubitv.rpc.analytics.TestField),\n",
       "  public com.tubitv.rpc.analytics.TestEvent$Builder com.tubitv.rpc.analytics.TestEvent$Builder.setStr11(com.tubitv.rpc.analytics.TestField),\n",
       "  public com.tubitv.rpc.analytics.TestEvent$Builder com.tubitv.rpc.analytics.TestEvent$Builder.setStr12(com.tubitv.rpc.analytics.TestField),\n",
       "  public com.tubitv.rpc.analytics.TestEvent$Builder com.tubitv.rpc.analytics.TestEvent$Builder.setStr13(com.tubitv.rpc.analytics.TestField),\n",
       "  public com.tubitv.rpc.analytics.TestEvent$Builder com.tubitv.rpc.analytics.TestEvent$Builder.setStr14(com.tubitv.rpc.analytics.TestField),\n",
       "  public com.tubitv.rpc.analytics.TestEvent$Builder com.tubitv.rpc.analytics.TestEvent$Builder.setStr15(com.tubitv.rpc.analytics.TestField),\n",
       "  public com.tubitv.rpc.analytics.TestEvent$Builder com.tubitv.rpc.analytics.TestEvent$Builder.setStr16(com.tubitv.rpc.analytics.TestField),\n",
       "  public com.tubitv.rpc.analytics.TestEvent$Builder com.tubitv.rpc.analytics.TestEvent$Builder.setStr17(com.tubitv.rpc.analytics.TestField),\n",
       "  public com.tubitv.rpc.analytics.TestEvent$Builder com.tubitv.rpc.analytics.TestEvent$Builder.setStr18(com.tubitv.rpc.analytics.TestField),\n",
       "  public com.tubitv.rpc.analytics.TestEvent$Builder com.tubitv.rpc.analytics.TestEvent$Builder.setStr19(com.tubitv.rpc.analytics.TestField),\n",
       "  public com.tubitv.rpc.analytics.TestEvent$Builder com.tubitv.rpc.analytics.TestEvent$Builder.setStr20(com.tubitv.rpc.analytics.TestField),\n",
       "...\n",
       "\u001b[36munion_builder\u001b[39m: \u001b[32mTestUnion\u001b[39m.\u001b[32mBuilder\u001b[39m = value: 88\n",
       "\n",
       "\u001b[36mfield_builder\u001b[39m: \u001b[32mTestField\u001b[39m.\u001b[32mBuilder\u001b[39m = value: \"test\"\n",
       "unionValue {\n",
       "  value: 88\n",
       "}\n",
       "\n",
       "\u001b[36mres9_5\u001b[39m: \u001b[32mTestEvent\u001b[39m.\u001b[32mBuilder\u001b[39m = str1 {\n",
       "  value: \"test\"\n",
       "  unionValue {\n",
       "    value: 88\n",
       "  }\n",
       "}\n",
       "str2 {\n",
       "  value: \"test\"\n",
       "  unionValue {\n",
       "    value: 88\n",
       "  }\n",
       "}\n",
       "str3 {\n",
       "  value: \"test\"\n",
       "  unionValue {\n",
       "    value: 88\n",
       "  }\n",
       "}\n",
       "str4 {\n",
       "  value: \"test\"\n",
       "  unionValue {\n",
       "    value: 88\n",
       "  }\n",
       "}\n",
       "str5 {\n",
       "  value: \"test\"\n",
       "  unionValue {\n",
       "    value: 88\n",
       "  }\n",
       "}\n",
       "str6 {\n",
       "  value: \"test\"\n",
       "  unionValue {\n",
       "    value: 88\n",
       "  }\n",
       "}\n",
       "str7 {\n",
       "  value: \"test\"\n",
       "  unionValue {\n",
       "...\n",
       "\u001b[36mevent\u001b[39m: \u001b[32mTestEvent\u001b[39m = str1 {\n",
       "  value: \"test\"\n",
       "  unionValue {\n",
       "    value: 88\n",
       "  }\n",
       "}\n",
       "str2 {\n",
       "  value: \"test\"\n",
       "  unionValue {\n",
       "    value: 88\n",
       "  }\n",
       "}\n",
       "str3 {\n",
       "  value: \"test\"\n",
       "  unionValue {\n",
       "    value: 88\n",
       "  }\n",
       "}\n",
       "str4 {\n",
       "  value: \"test\"\n",
       "  unionValue {\n",
       "    value: 88\n",
       "  }\n",
       "}\n",
       "str5 {\n",
       "  value: \"test\"\n",
       "  unionValue {\n",
       "    value: 88\n",
       "  }\n",
       "}\n",
       "str6 {\n",
       "  value: \"test\"\n",
       "  unionValue {\n",
       "    value: 88\n",
       "  }\n",
       "}\n",
       "str7 {\n",
       "  value: \"test\"\n",
       "  unionValue {\n",
       "..."
      ]
     },
     "execution_count": 10,
     "metadata": {},
     "output_type": "execute_result"
    }
   ],
   "source": [
    "val builder = TestEvent.newBuilder()\n",
    "\n",
    "val mthd =builder.getClass().getDeclaredMethods().filter(_.getName().matches(\"^setStr([2-9]|\\\\d{2,})$\")).filter(m => m.getParameterTypes()(0).getSimpleName.equals(\"TestField\"))\n",
    "\n",
    "val union_builder = TestUnion.newBuilder().setValue(88)\n",
    "val field_builder = TestField.newBuilder().setValue(\"test\").setEnumValueValue(0)\n",
    "mthd.foreach(m => { m.invoke(builder, field_builder.setUnionValue(union_builder.build()).build()) })\n",
    "\n",
    "builder.addStr1(field_builder.setUnionValue(union_builder.build()).build())\n",
    "\n",
    "val event = builder.build()"
   ]
  },
  {
   "cell_type": "code",
   "execution_count": 11,
   "metadata": {},
   "outputs": [
    {
     "data": {
      "text/plain": [
       "\u001b[32mimport \u001b[39m\u001b[36mjava.io.File\n",
       "\u001b[39m\n",
       "\u001b[32mimport \u001b[39m\u001b[36mjava.io.FileOutputStream\n",
       "\n",
       "\u001b[39m\n",
       "\u001b[36mfile\u001b[39m: \u001b[32mFile\u001b[39m = output.pb\n",
       "\u001b[36mres10_3\u001b[39m: \u001b[32mBoolean\u001b[39m = \u001b[32mfalse\u001b[39m\n",
       "\u001b[36mfos\u001b[39m: \u001b[32mFileOutputStream\u001b[39m = java.io.FileOutputStream@2d8427be"
      ]
     },
     "execution_count": 11,
     "metadata": {},
     "output_type": "execute_result"
    }
   ],
   "source": [
    "import java.io.File\n",
    "import java.io.FileOutputStream\n",
    "\n",
    "val file = new File(\"output.pb\")\n",
    "\n",
    "file.createNewFile()\n",
    "\n",
    "val fos = new FileOutputStream(file)\n",
    "\n",
    "event.writeTo(fos)\n",
    "\n"
   ]
  },
  {
   "cell_type": "code",
   "execution_count": 12,
   "metadata": {},
   "outputs": [
    {
     "data": {
      "text/plain": [
       "\u001b[32mimport \u001b[39m\u001b[36m$ivy.$                                  \n",
       "\u001b[39m\n",
       "\u001b[32mimport \u001b[39m\u001b[36m$ivy.$                                           \u001b[39m"
      ]
     },
     "execution_count": 12,
     "metadata": {},
     "output_type": "execute_result"
    }
   ],
   "source": [
    "import $ivy.`org.apache.spark::spark-sql:3.4.0`\n",
    "import $ivy.`org.apache.spark:spark-protobuf_2.12:3.4.0`"
   ]
  },
  {
   "cell_type": "code",
   "execution_count": 13,
   "metadata": {},
   "outputs": [
    {
     "name": "stdout",
     "output_type": "stream",
     "text": [
      "Loading spark-stubs\n",
      "Getting spark JARs\n",
      "Creating SparkSession\n"
     ]
    },
    {
     "name": "stderr",
     "output_type": "stream",
     "text": [
      "SLF4J: No SLF4J providers were found.\n",
      "SLF4J: Defaulting to no-operation (NOP) logger implementation\n",
      "SLF4J: See https://www.slf4j.org/codes.html#noProviders for further details.\n"
     ]
    },
    {
     "data": {
      "text/html": [
       "<a target=\"_blank\" href=\"http://ip-192-168-1-159.us-west-2.compute.internal:4040\">Spark UI</a>"
      ]
     },
     "metadata": {},
     "output_type": "display_data"
    },
    {
     "data": {
      "text/plain": [
       "\u001b[32mimport \u001b[39m\u001b[36morg.apache.spark.sql._\n",
       "\n",
       "\u001b[39m\n",
       "\u001b[36mspark\u001b[39m: \u001b[32mSparkSession\u001b[39m = org.apache.spark.sql.SparkSession@7ea7bb7a"
      ]
     },
     "execution_count": 13,
     "metadata": {},
     "output_type": "execute_result"
    }
   ],
   "source": [
    "import org.apache.spark.sql._\n",
    "\n",
    "val spark = {\n",
    "  NotebookSparkSession.builder()\n",
    "    .master(\"local[*]\")\n",
    "    .getOrCreate()\n",
    "}"
   ]
  },
  {
   "cell_type": "code",
   "execution_count": 14,
   "metadata": {},
   "outputs": [
    {
     "name": "stdout",
     "output_type": "stream",
     "text": [
      "root\n",
      " |-- content: binary (nullable = true)\n",
      "\n"
     ]
    },
    {
     "data": {
      "text/html": [
       "<script>\n",
       "var comm = Jupyter.notebook.kernel.comm_manager.new_comm('cancel-stage-053cf827-19f6-4c74-9ca9-2eb9171592fd', {});\n",
       "\n",
       "function cancelStage(stageId) {\n",
       "  console.log('Cancelling stage ' + stageId);\n",
       "  comm.send({ 'stageId': stageId });\n",
       "}\n",
       "</script>\n",
       "          "
      ]
     },
     "metadata": {},
     "output_type": "display_data"
    },
    {
     "data": {
      "text/html": [
       "<div>\n",
       "  <span style=\"float: left; word-wrap: normal; white-space: nowrap; text-align: center\">show at cmd13.sc:7</span>\n",
       "  <span style=\"float: right; word-wrap: normal; white-space: nowrap; text-align: center\"><a href=\"#\" onclick=\"cancelStage(0);\">(kill)</a></span>\n",
       "</div>\n",
       "<br>\n"
      ]
     },
     "metadata": {},
     "output_type": "display_data"
    },
    {
     "data": {
      "text/html": [
       "<div class=\"progress\">\n",
       "  <div class=\"progress-bar bg-success\" role=\"progressbar\" style=\"width: 0%; word-wrap: normal; white-space: nowrap; text-align: center; color: white\" aria-valuenow=\"0\" aria-valuemin=\"0\" aria-valuemax=\"100\">\n",
       "    0 / 1\n",
       "  </div>\n",
       "</div>\n"
      ]
     },
     "metadata": {},
     "output_type": "display_data"
    },
    {
     "name": "stdout",
     "output_type": "stream",
     "text": [
      "+--------------------+\n",
      "|             content|\n",
      "+--------------------+\n",
      "|[0A 0A 0A 04 74 6...|\n",
      "+--------------------+\n",
      "\n"
     ]
    },
    {
     "data": {
      "text/plain": [
       "\u001b[32mimport \u001b[39m\u001b[36morg.apache.spark.sql.functions._\n",
       "\n",
       "\u001b[39m\n",
       "\u001b[36mdf\u001b[39m: \u001b[32mDataFrame\u001b[39m = [path: string, modificationTime: timestamp ... 2 more fields]\n",
       "\u001b[36mdf2\u001b[39m: \u001b[32mDataFrame\u001b[39m = [content: binary]"
      ]
     },
     "execution_count": 14,
     "metadata": {},
     "output_type": "execute_result"
    }
   ],
   "source": [
    "import org.apache.spark.sql.functions._\n",
    "\n",
    "val df = spark.read.format(\"binaryFile\").load(\"output.pb\")\n",
    "val df2 = df.select(col(\"content\"))\n",
    "\n",
    "df2.printSchema()\n",
    "df2.show()"
   ]
  },
  {
   "cell_type": "code",
   "execution_count": 15,
   "metadata": {},
   "outputs": [
    {
     "data": {
      "text/plain": [
       "\u001b[32mimport \u001b[39m\u001b[36mspark.implicits._\n",
       "\u001b[39m\n",
       "defined \u001b[32mclass\u001b[39m \u001b[36mRawData\u001b[39m\n",
       "\u001b[36mrawDs\u001b[39m: \u001b[32mDataset\u001b[39m[\u001b[32mRawData\u001b[39m] = [content: binary]"
      ]
     },
     "execution_count": 15,
     "metadata": {},
     "output_type": "execute_result"
    }
   ],
   "source": [
    "import spark.implicits._\n",
    "case class RawData(content: Array[Byte])\n",
    "\n",
    "val rawDs = df2.as[RawData]"
   ]
  },
  {
   "cell_type": "code",
   "execution_count": 16,
   "metadata": {},
   "outputs": [
    {
     "data": {
      "text/plain": [
       "\u001b[32mimport \u001b[39m\u001b[36morg.apache.spark.sql.protobuf.functions._\n",
       "\u001b[39m\n",
       "\u001b[36mdf\u001b[39m: \u001b[32mDataFrame\u001b[39m = [event: struct<str1: array<struct<value:string,enumValue:string,unionValue:struct<value:int>>>, str2: struct<value: string, enumValue: string ... 1 more field> ... 298 more fields>]"
      ]
     },
     "execution_count": 16,
     "metadata": {},
     "output_type": "execute_result"
    }
   ],
   "source": [
    "// implicit val encoder = Encoders.kryo[TestEvent]\n",
    "// val ds = rawDs.map(r => TestEvent.parseFrom(r.content))\n",
    "// ds.map(_.getStr2).show()\n",
    "\n",
    "import org.apache.spark.sql.protobuf.functions._\n",
    "val df = rawDs.select(from_protobuf($\"content\", \"com.tubitv.rpc.analytics.TestEvent\").as(\"event\"))"
   ]
  },
  {
   "cell_type": "code",
   "execution_count": 17,
   "metadata": {},
   "outputs": [
    {
     "data": {
      "text/plain": [
       "\u001b[36mres16\u001b[39m: \u001b[32mtypes\u001b[39m.\u001b[32mStructType\u001b[39m = \u001b[33mStructType\u001b[39m(\n",
       "  \u001b[33mStructField\u001b[39m(\n",
       "    \u001b[32m\"event\"\u001b[39m,\n",
       "    \u001b[33mStructType\u001b[39m(\n",
       "      \u001b[33mStructField\u001b[39m(\n",
       "        \u001b[32m\"str1\"\u001b[39m,\n",
       "        \u001b[33mArrayType\u001b[39m(\n",
       "          \u001b[33mStructType\u001b[39m(\n",
       "            \u001b[33mStructField\u001b[39m(\u001b[32m\"value\"\u001b[39m, StringType, \u001b[32mtrue\u001b[39m, {}),\n",
       "            \u001b[33mStructField\u001b[39m(\u001b[32m\"enumValue\"\u001b[39m, StringType, \u001b[32mtrue\u001b[39m, {}),\n",
       "            \u001b[33mStructField\u001b[39m(\n",
       "              \u001b[32m\"unionValue\"\u001b[39m,\n",
       "              \u001b[33mStructType\u001b[39m(\u001b[33mStructField\u001b[39m(\u001b[32m\"value\"\u001b[39m, IntegerType, \u001b[32mtrue\u001b[39m, {})),\n",
       "              \u001b[32mtrue\u001b[39m,\n",
       "              {}\n",
       "            )\n",
       "          ),\n",
       "          \u001b[32mfalse\u001b[39m\n",
       "        ),\n",
       "        \u001b[32mtrue\u001b[39m,\n",
       "        {}\n",
       "      ),\n",
       "      \u001b[33mStructField\u001b[39m(\n",
       "        \u001b[32m\"str2\"\u001b[39m,\n",
       "        \u001b[33mStructType\u001b[39m(\n",
       "          \u001b[33mStructField\u001b[39m(\u001b[32m\"value\"\u001b[39m, StringType, \u001b[32mtrue\u001b[39m, {}),\n",
       "          \u001b[33mStructField\u001b[39m(\u001b[32m\"enumValue\"\u001b[39m, StringType, \u001b[32mtrue\u001b[39m, {}),\n",
       "          \u001b[33mStructField\u001b[39m(\n",
       "            \u001b[32m\"unionValue\"\u001b[39m,\n",
       "            \u001b[33mStructType\u001b[39m(\u001b[33mStructField\u001b[39m(\u001b[32m\"value\"\u001b[39m, IntegerType, \u001b[32mtrue\u001b[39m, {})),\n",
       "            \u001b[32mtrue\u001b[39m,\n",
       "            {}\n",
       "          )\n",
       "        ),\n",
       "        \u001b[32mtrue\u001b[39m,\n",
       "        {}\n",
       "      ),\n",
       "      \u001b[33mStructField\u001b[39m(\n",
       "        \u001b[32m\"str3\"\u001b[39m,\n",
       "..."
      ]
     },
     "execution_count": 17,
     "metadata": {},
     "output_type": "execute_result"
    }
   ],
   "source": [
    "df.schema"
   ]
  },
  {
   "cell_type": "code",
   "execution_count": null,
   "metadata": {},
   "outputs": [],
   "source": []
  },
  {
   "cell_type": "code",
   "execution_count": null,
   "metadata": {},
   "outputs": [],
   "source": []
  }
 ],
 "metadata": {
  "kernelspec": {
   "display_name": "Scala",
   "language": "scala",
   "name": "scala"
  },
  "language_info": {
   "codemirror_mode": "text/x-scala",
   "file_extension": ".sc",
   "mimetype": "text/x-scala",
   "name": "scala",
   "nbconvert_exporter": "script",
   "version": "2.12.14"
  },
  "orig_nbformat": 4
 },
 "nbformat": 4,
 "nbformat_minor": 2
}
